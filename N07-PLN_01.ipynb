{
 "cells": [
  {
   "cell_type": "markdown",
   "metadata": {},
   "source": [
    "# Códigos do Slide PLN 01"
   ]
  },
  {
   "cell_type": "code",
   "execution_count": 1,
   "metadata": {},
   "outputs": [],
   "source": [
    "import nltk\n",
    "from nltk import tokenize\n",
    "from nltk.tokenize import WhitespaceTokenizer\n",
    "from nltk.tokenize import WordPunctTokenizer\n",
    "from nltk.tokenize import TreebankWordTokenizer\n",
    "from nltk.stem import PorterStemmer\n",
    "from nltk.stem import WordNetLemmatizer"
   ]
  },
  {
   "cell_type": "markdown",
   "metadata": {},
   "source": [
    "Tokenizer"
   ]
  },
  {
   "cell_type": "code",
   "execution_count": 2,
   "metadata": {},
   "outputs": [
    {
     "name": "stdout",
     "output_type": "stream",
     "text": [
      "['This', 'is', \"Mary's\", 'car,', \"isn't\", 'it?']\n",
      "['This', 'is', 'Mary', \"'\", 's', 'car', ',', 'isn', \"'\", 't', 'it', '?']\n",
      "['This', 'is', 'Mary', \"'s\", 'car', ',', 'is', \"n't\", 'it', '?']\n"
     ]
    }
   ],
   "source": [
    "text = \"This is Mary's car, isn't it?\"\n",
    "tk_list = []\n",
    "tk_list.append(WhitespaceTokenizer()) \n",
    "tk_list.append(WordPunctTokenizer())\n",
    "tk_list.append(TreebankWordTokenizer())\n",
    "for tk in tk_list:\n",
    "    result = tk.tokenize(text) \n",
    "    print(result)"
   ]
  },
  {
   "cell_type": "markdown",
   "metadata": {},
   "source": [
    "Tokenizer em Português"
   ]
  },
  {
   "cell_type": "code",
   "execution_count": 5,
   "metadata": {},
   "outputs": [
    {
     "name": "stdout",
     "output_type": "stream",
     "text": [
      "\n"
     ]
    }
   ],
   "source": [
    "text = \"Se a única coisa que de o homem terá certeza é a morte; a única certeza do brasileiro é o carnaval no próximo ano.\" # Graciliano Ramos\n",
    "result = tokenize.word_tokenize(text, language='portuguese') \n",
    "print(result)"
   ]
  },
  {
   "cell_type": "markdown",
   "metadata": {},
   "source": [
    "Stemmer"
   ]
  },
  {
   "cell_type": "code",
   "execution_count": null,
   "metadata": {},
   "outputs": [],
   "source": [
    "ps = PorterStemmer()\n",
    "\n",
    "example_words = [\"program\",\"programming\",\"programer\",\"programs\",\"programmed\"]\n",
    "print(\"{0:20}{1:20}\".format(\"--Word--\",\"--Stem--\")) # Correto\n",
    "for word in example_words:\n",
    "    print (\"{0:20}{1:20}\".format(word, ps.stem(word)))\n",
    "\n",
    "example_words = [\"programmers\", \"because\", \"people\"]\n",
    "print(\"{0:20}{1:20}\".format(\"--Word--\",\"--Stem--\")) # Incorreto\n",
    "for word in example_words:\n",
    "    print (\"{0:20}{1:20}\".format(word, ps.stem(word)))"
   ]
  },
  {
   "cell_type": "markdown",
   "metadata": {},
   "source": [
    "Lemmatizer"
   ]
  },
  {
   "cell_type": "code",
   "execution_count": null,
   "metadata": {},
   "outputs": [],
   "source": [
    "nltk.download('wordnet') # Não tem em português na nltk(a spaCy tem)\n",
    "wnl = WordNetLemmatizer()\n",
    "words = ['dogs', 'churches', 'aardwolves', 'abaci', 'hardrock']\n",
    "for w in words:\n",
    "    print(wnl.lemmatize(w))"
   ]
  },
  {
   "cell_type": "markdown",
   "metadata": {},
   "source": [
    "Remoção de Stop Words"
   ]
  },
  {
   "cell_type": "code",
   "execution_count": null,
   "metadata": {},
   "outputs": [],
   "source": [
    "nltk.download('stopwords')\n",
    "stopwords = nltk.corpus.stopwords.words('portuguese')\n",
    "print(stopwords[:15])\n",
    "len(stopwords)"
   ]
  },
  {
   "cell_type": "markdown",
   "metadata": {},
   "source": [
    "Bag of Words"
   ]
  },
  {
   "cell_type": "code",
   "execution_count": null,
   "metadata": {},
   "outputs": [],
   "source": [
    "from sklearn.feature_extraction.text import TfidfVectorizer\n",
    "import pandas as pd"
   ]
  },
  {
   "cell_type": "code",
   "execution_count": null,
   "metadata": {},
   "outputs": [],
   "source": [
    "\n",
    "texts = [\"good movie\", \"not a good movie\", \"did not like\", \"i like it\", \"good me\"]\n",
    "tfidf = TfidfVectorizer(min_df=2, max_df=0.5, ngram_range=(1 ,2))\n",
    "features = tfidf.fit_transform(texts)\n",
    "df = pd.DataFrame(\n",
    "    features.todense(),\n",
    "    columns=tfidf.get_feature_names_out()\n",
    " )\n",
    "print(df)"
   ]
  },
  {
   "cell_type": "markdown",
   "metadata": {},
   "source": [
    "Comparação de resultados"
   ]
  },
  {
   "cell_type": "code",
   "execution_count": null,
   "metadata": {},
   "outputs": [],
   "source": [
    "import hashlib\n",
    "def hash_token(token, b):\n",
    "    # Create a hashlib object\n",
    "    hash_object = hashlib.sha256()\n",
    "    # Update the hash object with the token\n",
    "    hash_object.update(token.encode())\n",
    "    # Get the integer digest of the hash and map it to [0, num_buckets)\n",
    "    return int(hash_object.hexdigest(), 16) % (2**b)"
   ]
  },
  {
   "cell_type": "code",
   "execution_count": null,
   "metadata": {},
   "outputs": [],
   "source": [
    "# Example usage\n",
    "b = 10  # Number of buckets for hashing\n",
    "token = \"example\"\n",
    "hashed_value = hash_token(token, b)\n",
    "print(hashed_value)"
   ]
  },
  {
   "cell_type": "markdown",
   "metadata": {},
   "source": [
    "Word to Vector"
   ]
  },
  {
   "cell_type": "code",
   "execution_count": null,
   "metadata": {},
   "outputs": [],
   "source": [
    "from gensim.models import Word2Vec"
   ]
  },
  {
   "cell_type": "code",
   "execution_count": null,
   "metadata": {},
   "outputs": [],
   "source": [
    "# Sentencas\n",
    "sentences = [[\"gato\", \"persegue\", \"rato\"], [\"cachorro\", \"late\", \"muito\"], [\"lobo\", \"uiva\"]]\n",
    "# Treinamento do modelo Word2Vec\n",
    "model = Word2Vec(sentences, min_count=1)\n",
    "vector = model.wv['gato']\n",
    "print(\"Vetor representando 'gato':\", vector)\n",
    "# Find similar words\n",
    "similar_words = model.wv.most_similar('gato')\n",
    "print(\"Similaridade das palavras em relacao a 'gato 'gato':\", similar_words)"
   ]
  }
 ],
 "metadata": {
  "kernelspec": {
   "display_name": "Python 3",
   "language": "python",
   "name": "python3"
  },
  "language_info": {
   "codemirror_mode": {
    "name": "ipython",
    "version": 3
   },
   "file_extension": ".py",
   "mimetype": "text/x-python",
   "name": "python",
   "nbconvert_exporter": "python",
   "pygments_lexer": "ipython3",
   "version": "3.12.1"
  }
 },
 "nbformat": 4,
 "nbformat_minor": 2
}
