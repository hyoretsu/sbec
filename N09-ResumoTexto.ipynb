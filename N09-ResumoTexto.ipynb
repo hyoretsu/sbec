{
 "cells": [
  {
   "cell_type": "code",
   "execution_count": null,
   "id": "e2f5a8e9",
   "metadata": {},
   "outputs": [],
   "source": [
    "#############################################################################################################\n",
    "##### Notebook Processamento de Linguagem natural (PLN)\n",
    "##### Baseado em:\n",
    "## Natural Language Processing with Python (book)\n",
    "##\n",
    "##############################################################################################################\n",
    "## Objetivos:\n",
    "##   Exemplo pratico do uso de NLP para resumo de texto\n"
   ]
  },
  {
   "cell_type": "code",
   "execution_count": null,
   "id": "4034acd0",
   "metadata": {},
   "outputs": [],
   "source": [
    "import nltk\n",
    "from nltk.tokenize import word_tokenize\n",
    "from nltk.tokenize import sent_tokenize\n",
    "from nltk.corpus import stopwords\n",
    "from string import punctuation\n",
    "from nltk.probability import FreqDist\n",
    "from collections import defaultdict\n",
    "from heapq import nlargest\n",
    "import pandas as pd"
   ]
  },
  {
   "cell_type": "code",
   "execution_count": null,
   "id": "7b2cd645",
   "metadata": {},
   "outputs": [],
   "source": [
    "# Carregando o texto\n",
    "\n",
    "f = open('acordao1.txt', encoding=\"utf8\") # <<<<< modifique com um texto qualquer\n",
    "acordao = f.read()\n",
    "f.close()\n",
    "print(acordao)"
   ]
  },
  {
   "cell_type": "code",
   "execution_count": null,
   "id": "7ed129d5",
   "metadata": {},
   "outputs": [],
   "source": [
    "# Pre-processamento (tokenize de sentencas, de palavras, stopwords e distr. frequencia)\n",
    "\n",
    "sentencas = sent_tokenize(acordao)\n",
    "palavras = word_tokenize(acordao.lower())\n",
    "\n",
    "stopwords_ = set(stopwords.words('portuguese') + list(punctuation))\n",
    "palavras_sem_stopwords = [palavra for palavra in palavras if palavra not in stopwords_]\n",
    "\n",
    "frequencia = FreqDist(palavras_sem_stopwords)\n",
    "\n",
    "pd.DataFrame(list(frequencia.items()), columns = [\"Word\",\"Frequency\"])"
   ]
  },
  {
   "cell_type": "code",
   "execution_count": null,
   "id": "8899756e",
   "metadata": {},
   "outputs": [],
   "source": [
    "# Processamento principal\n",
    "## separar as sentenças mais importantes do texto.\n",
    "## as sentenças mais importantes são aquelas que possuem as palavras mais frequentes\n",
    "\n",
    "sentencas_importantes = defaultdict(int)\n",
    "\n",
    "for i, sentenca in enumerate(sentencas):\n",
    "  for palavra in word_tokenize(sentenca.lower()):\n",
    "    if palavra in frequencia:\n",
    "      sentencas_importantes[i] += frequencia[palavra]"
   ]
  },
  {
   "cell_type": "code",
   "execution_count": null,
   "id": "14f337a4",
   "metadata": {},
   "outputs": [],
   "source": [
    "#Saida\n",
    "\n",
    "resumo = \"\"\n",
    "\n",
    "idx_main_sents = nlargest(4, sentencas_importantes)\n",
    "\n",
    "for i in sorted(idx_main_sents):\n",
    "  resumo = resumo + ' ' + sentencas[i]\n",
    "  print(sentencas[i])\n",
    "  print('\\n')"
   ]
  },
  {
   "cell_type": "code",
   "execution_count": null,
   "id": "38932e58",
   "metadata": {},
   "outputs": [],
   "source": [
    "resumo"
   ]
  },
  {
   "cell_type": "code",
   "execution_count": null,
   "id": "331e76b8",
   "metadata": {},
   "outputs": [],
   "source": []
  }
 ],
 "metadata": {
  "kernelspec": {
   "display_name": "Python 3 (ipykernel)",
   "language": "python",
   "name": "python3"
  },
  "language_info": {
   "codemirror_mode": {
    "name": "ipython",
    "version": 3
   },
   "file_extension": ".py",
   "mimetype": "text/x-python",
   "name": "python",
   "nbconvert_exporter": "python",
   "pygments_lexer": "ipython3",
   "version": "3.11.5"
  }
 },
 "nbformat": 4,
 "nbformat_minor": 5
}
