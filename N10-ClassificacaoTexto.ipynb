{
 "cells": [
  {
   "cell_type": "code",
   "execution_count": null,
   "id": "80aaa327",
   "metadata": {},
   "outputs": [],
   "source": [
    "#############################################################################################################\n",
    "##### Notebook Processamento de Linguagem natural (PLN)\n",
    "##### Baseado em:\n",
    "## Natural Language Processing with Python (book)\n",
    "##\n",
    "##############################################################################################################\n",
    "## Objetivos:\n",
    "##   Exemplo pratico do uso de NLP para classificao de texto com extracao pobre de caracteristicas\n",
    "##   Tentem popular com outros tipos de texto, tipo texto de Machado de Assis e Jose de Alencar\n",
    "##        Verificar se eh possivel a distincao destes dois escritores.\n",
    "\n",
    "\n",
    "import nltk, random\n",
    "from os import listdir\n",
    "\n",
    "todos_tokens = []\n",
    "docs_label = []\n",
    "\n",
    "path_in = \"C:/Users/dealbuqc/Desktop/UFPB/Classes/SBC/PLN/\"\n",
    "\n",
    "for x in listdir(path_in+'embargados'):\n",
    "    f = open(path_in+'embargados/'+x, encoding=\"utf8\")\n",
    "    raw = f.read()\n",
    "    tokens = nltk.tokenize.word_tokenize(raw)\n",
    "    docs_label = docs_label + [(list(tokens),'embargado')]\n",
    "    todos_tokens = tokens + todos_tokens\n",
    "    f.close()\n",
    "\n",
    "for x in listdir(path_in+'nembargados'):\n",
    "    f = open(path_in+'nembargados/'+x, encoding=\"utf8\")\n",
    "    raw = f.read()\n",
    "    tokens = nltk.tokenize.word_tokenize(raw)\n",
    "    docs_label = docs_label + [(list(tokens),'nao-embargado')]\n",
    "    todos_tokens = tokens + todos_tokens\n",
    "    f.close()\n",
    "    \n",
    "random.shuffle(docs_label)"
   ]
  },
  {
   "cell_type": "code",
   "execution_count": null,
   "id": "872b7510",
   "metadata": {},
   "outputs": [],
   "source": [
    "fd = nltk.FreqDist(w.lower() for w in todos_tokens)\n",
    "as2000mais = list(fd.most_common(2000))  # [[token1,count1], [token1,count1], ...]\n",
    "as2000mais = [item[0] for item in as2000mais]   # [token1, token2, ...]\n",
    "fd.plot(20)\n"
   ]
  },
  {
   "cell_type": "code",
   "execution_count": null,
   "id": "87ac88f7",
   "metadata": {},
   "outputs": [],
   "source": [
    "# Implementar o extrator de características\n",
    "# Como melhorar essa parte????????\n",
    "\n",
    "def get_doc_features(documento):\n",
    "    palavras_do_doc = set(documento)\n",
    "    caracteristicas = {}\n",
    "    for palavra in as2000mais:\n",
    "        caracteristicas['contains({})'.format(palavra)] = (palavra in palavras_do_doc)\n",
    "    return caracteristicas"
   ]
  },
  {
   "cell_type": "code",
   "execution_count": null,
   "id": "24d9b363",
   "metadata": {},
   "outputs": [],
   "source": [
    "# Realizar o treinamento\n",
    "\n",
    "featuresets = [(get_doc_features(d),l) for (d,l) in docs_label]\n",
    "train_set, test_set = featuresets[14:], featuresets[:14]\n",
    "classifier = nltk.NaiveBayesClassifier.train(train_set)"
   ]
  },
  {
   "cell_type": "code",
   "execution_count": null,
   "id": "b565d304",
   "metadata": {},
   "outputs": [],
   "source": [
    "print(nltk.classify.accuracy(classifier,test_set))"
   ]
  }
 ],
 "metadata": {
  "kernelspec": {
   "display_name": "Python 3 (ipykernel)",
   "language": "python",
   "name": "python3"
  },
  "language_info": {
   "codemirror_mode": {
    "name": "ipython",
    "version": 3
   },
   "file_extension": ".py",
   "mimetype": "text/x-python",
   "name": "python",
   "nbconvert_exporter": "python",
   "pygments_lexer": "ipython3",
   "version": "3.11.5"
  }
 },
 "nbformat": 4,
 "nbformat_minor": 5
}
