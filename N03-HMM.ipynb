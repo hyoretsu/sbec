{
 "cells": [
  {
   "cell_type": "code",
   "execution_count": null,
   "id": "baf8b87c",
   "metadata": {},
   "outputs": [],
   "source": [
    "###########################################\n",
    "### Sistemas Baseados em Conhecimento\n",
    "### Notebook: N03 (Modelo Oculto de Markov)   \n",
    "###########################################\n",
    "\n",
    "# EXEMPLO 01, PREVISAO DO TEMPO\n",
    "## https://www.geeksforgeeks.org/hidden-markov-model-in-machine-learning/\n",
    "\n",
    "#!pip install hmmlearn\n",
    "\n",
    "import numpy as np\n",
    "import math\n",
    "import matplotlib.pyplot as plt \n",
    "import seaborn as sns \n",
    "from hmmlearn import hmm"
   ]
  },
  {
   "cell_type": "code",
   "execution_count": null,
   "id": "02fa9fae",
   "metadata": {},
   "outputs": [],
   "source": [
    "## (1) Defina o espaço de estados e o espaço de observações\n",
    "#############\n",
    "\n",
    "# Espaco de estados \n",
    "states = [\"Ensolarado\", \"Chuvoso\"] \n",
    "n_states = len(states) \n",
    "print('Quantidade de estados escondidos :',n_states) \n",
    "\n",
    "# Espaco das observacoes\n",
    "observations = [\"Seco\", \"Humido\"] \n",
    "n_observations = len(observations) \n",
    "print('Quantidade de possiveis observacoes:',n_observations)"
   ]
  },
  {
   "cell_type": "code",
   "execution_count": null,
   "id": "0a763d10",
   "metadata": {},
   "outputs": [],
   "source": [
    "## (2) Defina a distribuição do estado inicial\n",
    "#############\n",
    "\n",
    "state_probability = np.array([0.6, 0.4]) \n",
    "print(\"State probability: \", state_probability) \n"
   ]
  },
  {
   "cell_type": "code",
   "execution_count": null,
   "id": "636e8b4b",
   "metadata": {},
   "outputs": [],
   "source": [
    "## (3) Defina a probabilidade das transições de estado\n",
    "#############\n",
    "\n",
    "transition_probability = np.array([[0.7, 0.3], \n",
    "                                   [0.3, 0.7]]) \n",
    "print(\"\\nProbabilidade de transicao:\\n\", transition_probability) "
   ]
  },
  {
   "cell_type": "code",
   "execution_count": null,
   "id": "a560efcc",
   "metadata": {},
   "outputs": [],
   "source": [
    "## (4) Define a probabilidade de uma observação dada um estado\n",
    "#############\n",
    "\n",
    "emission_probability= np.array([[0.9, 0.1], \n",
    "                                [0.2, 0.8]]) \n",
    "print(\"\\nProbabilidade do estado dada uma observacao:\\n\", emission_probability)"
   ]
  },
  {
   "cell_type": "code",
   "execution_count": null,
   "id": "20ec2552",
   "metadata": {},
   "outputs": [],
   "source": [
    "## (5) Crie o modelo\n",
    "#############\n",
    "\n",
    "model = hmm.CategoricalHMM(n_components=n_states) \n",
    "model.startprob_ = state_probability \n",
    "model.transmat_ = transition_probability \n",
    "model.emissionprob_ = emission_probability"
   ]
  },
  {
   "cell_type": "code",
   "execution_count": null,
   "id": "177863b3",
   "metadata": {},
   "outputs": [],
   "source": [
    "## (6) Dada uma observação, retorne a sequência mais provável de estados escondidos\n",
    "#############\n",
    "\n",
    "# [seco, umido, seco, umido, seco, seco] \n",
    "observations_sequence = np.array([0, 1, 0, 1, 0, 0]).reshape(-1, 1) \n",
    "\n",
    "##hidden_states = model.predict(observations_sequence)\n",
    "log_probability, hidden_states = model.decode(observations_sequence, \n",
    "                                              lengths = len(observations_sequence), \n",
    "                                              algorithm ='viterbi' ) \n",
    "\n",
    "print('Log Probability :',log_probability)\n",
    "print('Probability: ', 1 / (1 + math.exp(-log_probability)) )\n",
    "print(\"Most likely hidden states:\", hidden_states)"
   ]
  },
  {
   "cell_type": "code",
   "execution_count": null,
   "id": "857d469d",
   "metadata": {},
   "outputs": [],
   "source": [
    "## (7) Avalie o modelo\n",
    "#############\n",
    "\n",
    "sns.set_style(\"whitegrid\") \n",
    "plt.plot(hidden_states, '-o', label=\"Hidden State\") \n",
    "plt.xlabel('Time step') \n",
    "plt.ylabel('Mais provavel estado oculto') \n",
    "plt.title(\"Ensolarado OU Chuvoso\") \n",
    "plt.legend() \n",
    "plt.show()"
   ]
  },
  {
   "cell_type": "code",
   "execution_count": null,
   "id": "237a7c47",
   "metadata": {},
   "outputs": [],
   "source": [
    "# EXEMPLO 02, RECONHECIMENTO DE CARACTER\n",
    "## Dado um dataset de caracteres escrito a mao, o objetivo eh reconhecer o caracter baseado na forma como ele eh escrito\n",
    "\n",
    "# Bibliotecas \n",
    "import numpy as np \n",
    "import matplotlib.pyplot as plt \n",
    "import seaborn as sns \n",
    "from hmmlearn import hmm "
   ]
  },
  {
   "cell_type": "code",
   "execution_count": null,
   "id": "d33fba16",
   "metadata": {},
   "outputs": [],
   "source": [
    "## (1) Defina o espaço de estados e o espaço de observações\n",
    "#############\n",
    "  \n",
    "# Espaco de estados\n",
    "states = [\"A\", \"B\", \"C\", \"D\", \"E\", \"F\", \"G\", \"H\", \"I\", \"J\", \"K\", \"L\", \"M\", \n",
    "          \"N\", \"O\", \"P\", \"Q\", \"R\", \"S\", \"T\", \"U\", \"V\", \"W\", \"X\", \"Y\", \"Z\"] \n",
    "n_states = len(states) \n",
    "  \n",
    "# Espaco de observacoes\n",
    "observations = [\"up\", \"down\", \"left\", \"right\", \"up-right\", \"down-right\", \n",
    "                \"down-left\", \"up-left\"] \n",
    "n_observations = len(observations) "
   ]
  },
  {
   "cell_type": "code",
   "execution_count": null,
   "id": "c236b494",
   "metadata": {},
   "outputs": [],
   "source": [
    "## (2) Defina a distribuição do estado inicial\n",
    "#############\n",
    "\n",
    "# Funcao que cria um array de 26 probabilidades, com somatorio = 1\n",
    "start_probability = np.random.dirichlet(np.ones(26),size=(1))[0]\n",
    "start_probability"
   ]
  },
  {
   "cell_type": "code",
   "execution_count": null,
   "id": "11e1b90a",
   "metadata": {},
   "outputs": [],
   "source": [
    "## (3) Defina a probabilidade das transições de estado\n",
    "#############\n",
    "\n",
    "#  Array de 26×26 representando a probabiliadde da transicao de um caracter. \n",
    "# Soma dos 26 valores tambem eh 1\n",
    "transition_probability = np.random.dirichlet(np.ones(26),size=(26))"
   ]
  },
  {
   "cell_type": "code",
   "execution_count": null,
   "id": "0a3ab2c4",
   "metadata": {},
   "outputs": [],
   "source": [
    "## (4) Define a probabilidade de uma observacao dado um estado\n",
    "############\n",
    "\n",
    "# 26×8 array representando a probabilidade de gerar uma observacao dada um caracter.\n",
    "emission_probability = np.random.dirichlet(np.ones(26),size=(26)) "
   ]
  },
  {
   "cell_type": "code",
   "execution_count": null,
   "id": "1acb6a00",
   "metadata": {},
   "outputs": [],
   "source": [
    "emission_probability"
   ]
  },
  {
   "cell_type": "code",
   "execution_count": null,
   "id": "0fcb8cc6",
   "metadata": {},
   "outputs": [],
   "source": [
    "## (5) Crie o modelo\n",
    "#############\n",
    "\n",
    "model = hmm.CategoricalHMM(n_components=n_states) \n",
    "model.startprob_ = start_probability \n",
    "model.transmat_ = transition_probability \n",
    "model.emissionprob_ = emission_probability "
   ]
  },
  {
   "cell_type": "code",
   "execution_count": null,
   "id": "b1a2f8a5",
   "metadata": {},
   "outputs": [],
   "source": [
    "## (6) Dada uma observação, retorne a sequência mais provável de estados escondidos\n",
    "#############\n",
    "\n",
    "# [\"up\", \"down\", \"left\", \"down\", \"up\", \"down\", \"left\", \"right\", \"left\", \"down\", \"left\"]\n",
    "observations_sequence = np.array([0, 1, 2, 1, 0, 1, 2, 3, 2, 1, 2]).reshape(-1, 1) \n",
    "  \n",
    "# Predict the most likely hidden states \n",
    "hidden_states = model.predict(observations_sequence) \n",
    "print(\"Most likely hidden states:\", hidden_states) "
   ]
  },
  {
   "cell_type": "code",
   "execution_count": null,
   "id": "0e52cc84",
   "metadata": {},
   "outputs": [],
   "source": [
    "# Plot the results \n",
    "sns.set_style(\"whitegrid\") \n",
    "plt.plot(hidden_states, '-o', label=\"Hidden State\") \n",
    "plt.xlabel('Traco') \n",
    "plt.ylabel('Mais provavel estado oculto') \n",
    "plt.title(\"Estado oculto previsto\") \n",
    "plt.legend() \n",
    "plt.show()"
   ]
  },
  {
   "cell_type": "code",
   "execution_count": null,
   "id": "0c06bedc",
   "metadata": {},
   "outputs": [],
   "source": [
    "# EXEMPLO 03, RECONHECIMENTO DA PALAVRA FALADA EM AUDIO\n",
    "## Dado um dataset com gravacoes de audio, o objetivo eh reconhecer as palavras faladas na gravacao \n",
    "\n",
    "import numpy as np \n",
    "import matplotlib.pyplot as plt \n",
    "import seaborn as sns \n",
    "from hmmlearn import hmm "
   ]
  },
  {
   "cell_type": "code",
   "execution_count": null,
   "id": "ffd561e4",
   "metadata": {},
   "outputs": [],
   "source": [
    "## (1) Defina o espaço de estados e o espaço de observações\n",
    "#############\n",
    "\n",
    "# espaco de estados\n",
    "states = [\"Word0\", \"Word1\", \"Word2\", \"Word3\"] \n",
    "n_states = len(states)\n",
    "\n",
    "# espaco de observacoes\n",
    "observations = [\"Oral\", \"Nasal\"] \n",
    "n_observations = len(observations)"
   ]
  },
  {
   "cell_type": "code",
   "execution_count": null,
   "id": "aceb504e",
   "metadata": {},
   "outputs": [],
   "source": [
    "## (2) Defina a distribuição do estado inicial\n",
    "#############\n",
    "\n",
    "start_probability = np.array([0.8, 0.1, 0.1, 0.0])"
   ]
  },
  {
   "cell_type": "code",
   "execution_count": null,
   "id": "9f9462a8",
   "metadata": {},
   "outputs": [],
   "source": [
    "## (3) Defina a probabilidade das transições de estado\n",
    "#############\n",
    "\n",
    "transition_probability = np.array([[0.7, 0.2, 0.1, 0.0], \n",
    "                                   [0.0, 0.6, 0.4, 0.0], \n",
    "                                   [0.0, 0.0, 0.6, 0.4], \n",
    "                                   [0.0, 0.0, 0.0, 1.0]]) "
   ]
  },
  {
   "cell_type": "code",
   "execution_count": null,
   "id": "583b2b91",
   "metadata": {},
   "outputs": [],
   "source": [
    "## (4) Defina a probabilidade de uma observação dada um estado\n",
    "############\n",
    "\n",
    "emission_probability = np.array([[0.7, 0.3], \n",
    "                                 [0.4, 0.6],\n",
    "                                 [0.6, 0.4],\n",
    "                                 [0.3, 0.7]]) "
   ]
  },
  {
   "cell_type": "code",
   "execution_count": null,
   "id": "afcf83b0",
   "metadata": {},
   "outputs": [],
   "source": [
    "## (5) Crie o modelo\n",
    "############\n",
    "\n",
    "# Fit the model \n",
    "model = hmm.CategoricalHMM(n_components=n_states) \n",
    "model.startprob_ = start_probability \n",
    "model.transmat_ = transition_probability \n",
    "model.emissionprob_ = emission_probability "
   ]
  },
  {
   "cell_type": "code",
   "execution_count": null,
   "id": "2432bcaa",
   "metadata": {},
   "outputs": [],
   "source": [
    "## (6) Dada uma observação, retorne a sequência mais provável de estados escondidos\n",
    "#############\n",
    "\n",
    "# [Oral, Nasal, Oral, Oral, Nasal, Nasal, Oral, Nasal]\n",
    "observations_sequence = np.array([0, 1, 0, 0, 1, 1, 0, 1]).reshape(-1, 1) \n",
    "\n",
    "hidden_states = model.predict(observations_sequence) \n",
    "print(\"Mais provaveis estados ocultos:\", hidden_states) "
   ]
  },
  {
   "cell_type": "code",
   "execution_count": null,
   "id": "fcf0665b",
   "metadata": {},
   "outputs": [],
   "source": [
    "## (6) Avalie o modelo\n",
    "#############\n",
    "\n",
    "# Plot the results \n",
    "sns.set_style(\"darkgrid\") \n",
    "plt.plot(hidden_states, '-o', label=\"Hidden State\") \n",
    "plt.legend() \n",
    "plt.show() \n"
   ]
  }
 ],
 "metadata": {
  "kernelspec": {
   "display_name": "Python 3 (ipykernel)",
   "language": "python",
   "name": "python3"
  },
  "language_info": {
   "codemirror_mode": {
    "name": "ipython",
    "version": 3
   },
   "file_extension": ".py",
   "mimetype": "text/x-python",
   "name": "python",
   "nbconvert_exporter": "python",
   "pygments_lexer": "ipython3",
   "version": "3.11.5"
  }
 },
 "nbformat": 4,
 "nbformat_minor": 5
}
