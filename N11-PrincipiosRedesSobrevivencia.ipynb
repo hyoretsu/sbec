{
 "cells": [
  {
   "cell_type": "code",
   "execution_count": null,
   "id": "28120e33",
   "metadata": {},
   "outputs": [],
   "source": [
    "#############################################################################################################\n",
    "##### Notebook Analise de Sobrevivencia\n",
    "##### Baseado em:\n",
    "## Natural Language Processing with Python (book)\n",
    "##\n",
    "## Dataset: http://www-eio.upc.edu/~pau/cms/rdata/csv/survival/lung.csv\n",
    "##\n",
    "##############################################################################################################\n",
    "## Objetivos:\n",
    "##   Mostrar as vantagens do metodo Survival Analysis: \n",
    "##    - Motivacao para a implementacao de explainability\n",
    "##    - Teoria de suporte para um novo conjuntos de arquiteturas de aprendizagem profunda\n",
    "##    - Possivel estrategia de analise\n",
    "###################################################################################################################"
   ]
  },
  {
   "cell_type": "code",
   "execution_count": null,
   "id": "1bf79d76",
   "metadata": {},
   "outputs": [],
   "source": [
    "import pandas as pd\n",
    "import numpy as np\n",
    "import matplotlib.pyplot as plt\n",
    "from lifelines import KaplanMeierFitter\n",
    "\n",
    "path_in = 'C:/Users/dealbuqc/Desktop/ontomqol/Datasets/lung/'"
   ]
  },
  {
   "cell_type": "code",
   "execution_count": null,
   "id": "0cc09af5",
   "metadata": {},
   "outputs": [],
   "source": [
    "# Leitura dos dados\n",
    "data = pd.read_csv(path_in+\"lung.csv\")\n",
    "data.head()"
   ]
  },
  {
   "cell_type": "code",
   "execution_count": null,
   "id": "cb8f8ced",
   "metadata": {},
   "outputs": [],
   "source": [
    "# Estatistica basica sobre os dados\n",
    "\n",
    "data.describe()"
   ]
  },
  {
   "cell_type": "code",
   "execution_count": null,
   "id": "e072bc7a",
   "metadata": {},
   "outputs": [],
   "source": [
    "# Histograma\n",
    "data[\"age\"].hist()"
   ]
  },
  {
   "cell_type": "code",
   "execution_count": null,
   "id": "b96d6233",
   "metadata": {},
   "outputs": [],
   "source": [
    "# Criacao do modelo a ser utilizado e organizacao dos dados\n",
    "\n",
    "kmf = KaplanMeierFitter()\n",
    "\n",
    "# If status = 1 , then dead = 0\n",
    "# If status = 2 , then dead = 1\n",
    "data.loc[data.status == 1, 'dead'] = 0\n",
    "data.loc[data.status == 2, 'dead'] = 1\n",
    "data.head()"
   ]
  },
  {
   "cell_type": "code",
   "execution_count": null,
   "id": "2d9d6cbb",
   "metadata": {},
   "outputs": [],
   "source": [
    "# Treinamento do modelo\n",
    "# Primeiro argumento: variavel temporal (tempo de sobrevivencia)\n",
    "# Segundo argumento: indica se o evento de interesse ocorreu\n",
    "\n",
    "kmf.fit(durations =  data[\"time\"], event_observed = data[\"dead\"])\n",
    "\n",
    "# Resultado eh dado em forma de tabela\n",
    "# Removed = Observed + Censored\n",
    "# Censored = pessoas que nao morreram mas nao trazem informacao relevante para o experimento\n",
    "# Observed = pessoas que morrera durante o experimento\n",
    "\n",
    "kmf.event_table"
   ]
  },
  {
   "cell_type": "code",
   "execution_count": null,
   "id": "011c4fba",
   "metadata": {},
   "outputs": [],
   "source": [
    "# Calculo manual das probabilidades de sobrevivencia\n",
    "\n",
    "# t=0\n",
    "event_at_0 = kmf.event_table.iloc[0,:]\n",
    "surv_for_0 = (event_at_0.at_risk - event_at_0.observed)/event_at_0.at_risk\n",
    "\n",
    "# t=5\n",
    "event_at_5 = kmf.event_table.iloc[1,:]\n",
    "surv_for_5 = (event_at_5.at_risk - event_at_5.observed)/event_at_5.at_risk\n",
    "\n",
    "# t=11\n",
    "event_at_11 = kmf.event_table.iloc[2,:]\n",
    "surv_for_11 = (event_at_11.at_risk - event_at_11.observed)/event_at_11.at_risk\n",
    "\n",
    "# Calculo real das probabilidades em cada t:\n",
    "surv_after_5 = surv_for_0 * surv_for_5\n",
    "surv_after_11 = surv_for_0 * surv_for_5 * surv_for_11\n",
    "print (surv_after_5)\n",
    "print (surv_after_11)"
   ]
  },
  {
   "cell_type": "code",
   "execution_count": null,
   "id": "614c3d5f",
   "metadata": {},
   "outputs": [],
   "source": [
    "# API ja faz este calculo automaticamente\n",
    "\n",
    "# momento isolado\n",
    "print (kmf.predict(11))"
   ]
  },
  {
   "cell_type": "code",
   "execution_count": null,
   "id": "44be0811",
   "metadata": {},
   "outputs": [],
   "source": [
    "# lista the momentos\n",
    "print (kmf.predict([0,5,11,12]))"
   ]
  },
  {
   "cell_type": "code",
   "execution_count": null,
   "id": "f7b0ce0f",
   "metadata": {},
   "outputs": [],
   "source": [
    "# todos os momentos\n",
    "print (kmf.survival_function_)"
   ]
  },
  {
   "cell_type": "code",
   "execution_count": null,
   "id": "81fa9f3d",
   "metadata": {},
   "outputs": [],
   "source": [
    "# Tambem o numero de dias onde em media 50% dos pacientes morreram.\n",
    "print (kmf.median_survival_time_)"
   ]
  },
  {
   "cell_type": "code",
   "execution_count": null,
   "id": "42d52dfe",
   "metadata": {},
   "outputs": [],
   "source": [
    "# Visualizacao por meio de grafico\n",
    "kmf.plot()\n",
    "plt.title(\"The Kaplan-Meier Estimate\")\n",
    "plt.ylabel(\"Probabilidade dos pacientes estarem vivos\")\n",
    "plt.show()"
   ]
  },
  {
   "cell_type": "code",
   "execution_count": null,
   "id": "9634e3b7",
   "metadata": {},
   "outputs": [],
   "source": [
    "print (kmf.confidence_interval_)\n",
    "\n",
    "# Probabilidade de morte :\n",
    "# p(1022) = p(0) +......+p(1022)\n",
    "print (kmf.cumulative_density_)\n"
   ]
  },
  {
   "cell_type": "code",
   "execution_count": null,
   "id": "43918c8a",
   "metadata": {},
   "outputs": [],
   "source": [
    "# Visualizacao dos dados acima:\n",
    "kmf.plot_cumulative_density()"
   ]
  },
  {
   "cell_type": "code",
   "execution_count": null,
   "id": "52e5899f",
   "metadata": {},
   "outputs": [],
   "source": [
    "###############################################################################################"
   ]
  },
  {
   "cell_type": "code",
   "execution_count": null,
   "id": "2bda7b9f",
   "metadata": {},
   "outputs": [],
   "source": [
    "# Aplicacao do tecnica para diferentes grupos\n",
    "\n",
    "kmf_m = KaplanMeierFitter() \n",
    "kmf_f = KaplanMeierFitter() \n",
    "\n",
    "Male = data.query(\"sex == 1\")\n",
    "Female = data.query(\"sex == 2\")\n",
    "\n",
    "# Primeiro argumento: serie de tempos de sobrevivencia individuais\n",
    "# Segundo argumento: serie indicando se o evento de interesse ocorreu\n",
    "\n",
    "kmf_m.fit(durations =  Male[\"time\"],event_observed = Male[\"dead\"] ,label=\"Male\")\n",
    "kmf_f.fit(durations =  Female[\"time\"],event_observed = Female[\"dead\"], label=\"Female\")"
   ]
  },
  {
   "cell_type": "code",
   "execution_count": null,
   "id": "458f2043",
   "metadata": {},
   "outputs": [],
   "source": [
    "kmf_m.event_table"
   ]
  },
  {
   "cell_type": "code",
   "execution_count": null,
   "id": "ac4a06cd",
   "metadata": {},
   "outputs": [],
   "source": [
    "kmf_f.event_table"
   ]
  },
  {
   "cell_type": "code",
   "execution_count": null,
   "id": "9751d464",
   "metadata": {},
   "outputs": [],
   "source": [
    "# Probabilidade de sobrevivencia para os grupos no tempo t = 11\n",
    "\n",
    "print (kmf_m.predict(11))\n",
    "print (kmf_f.predict(11))"
   ]
  },
  {
   "cell_type": "code",
   "execution_count": null,
   "id": "aa090491",
   "metadata": {},
   "outputs": [],
   "source": [
    "print (kmf_m.survival_function_)\n",
    "print (kmf_f.survival_function_)"
   ]
  },
  {
   "cell_type": "code",
   "execution_count": null,
   "id": "4f9ae113",
   "metadata": {},
   "outputs": [],
   "source": [
    "# Visualizacao grafica do resultado da funcao de sobrevivencia\n",
    "kmf_m.plot()\n",
    "kmf_f.plot()\n",
    "plt.xlabel(\"Dias que se passaram\")\n",
    "plt.ylabel(\"Sobrevivencia\")\n",
    "plt.title(\"KMF\")\n"
   ]
  },
  {
   "cell_type": "code",
   "execution_count": null,
   "id": "06722b4c",
   "metadata": {},
   "outputs": [],
   "source": [
    "# Densidade acumulativa:\n",
    "### probabilidade de uma pessoa morrer durante o period indicado\n",
    "\n",
    "print (kmf_m.cumulative_density_)\n",
    "print (kmf_f.cumulative_density_)\n",
    "\n",
    "kmf_m.plot_cumulative_density()\n",
    "kmf_f.plot_cumulative_density()\n"
   ]
  },
  {
   "cell_type": "code",
   "execution_count": null,
   "id": "2b48fe63",
   "metadata": {},
   "outputs": [],
   "source": [
    "# Log-Rank Test\n",
    "### Objetivo: verificar se existe alguma diferenca significante entre os grupos comparados\n",
    "#### Hipotese nula: nao existe diferenca entre os grupos\n",
    "#### obs. lembrando, quanto menor o p, maior a diferenca entre os grupos.\n",
    "####      Se (p<0.05), entao rejeitamos a hipotese nula\n",
    "\n",
    "\n",
    "# Define variables :\n",
    "T=Male['time']\n",
    "E=Male['dead']\n",
    "T1=Female['time']\n",
    "E1=Female['dead']\n",
    "\n",
    "from lifelines.statistics import logrank_test\n",
    "\n",
    "results=logrank_test(T,T1,event_observed_A=E, event_observed_B=E1)\n",
    "results.print_summary()"
   ]
  },
  {
   "cell_type": "code",
   "execution_count": null,
   "id": "122b5660",
   "metadata": {},
   "outputs": [],
   "source": [
    "###############################################################################################"
   ]
  },
  {
   "cell_type": "code",
   "execution_count": null,
   "id": "53362179",
   "metadata": {},
   "outputs": [],
   "source": [
    "# Cox proportional hazard model\n",
    "\n",
    "from lifelines import CoxPHFitter\n",
    "\n",
    "data= data.dropna(subset=['inst', 'time', 'status', 'age', 'sex', 'ph.ecog','ph.karno', 'pat.karno', 'meal.cal', 'wt.loss'])\n",
    "\n",
    "data = data[[ 'time', 'age', 'sex', 'ph.ecog','ph.karno', 'pat.karno', 'meal.cal', 'wt.loss', 'dead']]\n",
    "\n",
    "cph = CoxPHFitter()\n",
    "cph.fit(data,\"time\",event_col=\"dead\")\n",
    "cph.print_summary()"
   ]
  },
  {
   "cell_type": "code",
   "execution_count": null,
   "id": "6344a568",
   "metadata": {},
   "outputs": [],
   "source": [
    "#Lembrando: HR = exp(coef) = 1 indica sem efeito\n",
    "#           HR = exp(coef) < 1 indica reducao do \"perigo\"\n",
    "#           HR = exp(codf) > 1 indica aumento do \"perigo\"\n",
    "\n",
    "# Outra forma de visualizacao\n",
    "\n",
    "cph.plot()\n"
   ]
  },
  {
   "cell_type": "code",
   "execution_count": null,
   "id": "b51a9541",
   "metadata": {},
   "outputs": [],
   "source": [
    "# Grafico da funcao de sobrevivencia\n",
    "### cada linha representa um individuo\n",
    "\n",
    "d_data = data.iloc[0:5,:]\n",
    "cph.predict_survival_function(d_data).plot()"
   ]
  },
  {
   "cell_type": "code",
   "execution_count": null,
   "id": "36b05cf1",
   "metadata": {},
   "outputs": [],
   "source": [
    "# Representacao do tempo medio de sobrevivencia\n",
    "\n",
    "CTE = kmf.conditional_time_to_event_\n",
    "plt.plot(CTE)"
   ]
  },
  {
   "cell_type": "code",
   "execution_count": 5,
   "id": "a93cb02e",
   "metadata": {},
   "outputs": [
    {
     "data": {
      "text/html": [
       "<div>\n",
       "<style scoped>\n",
       "    .dataframe tbody tr th:only-of-type {\n",
       "        vertical-align: middle;\n",
       "    }\n",
       "\n",
       "    .dataframe tbody tr th {\n",
       "        vertical-align: top;\n",
       "    }\n",
       "\n",
       "    .dataframe thead th {\n",
       "        text-align: right;\n",
       "    }\n",
       "</style>\n",
       "<table border=\"1\" class=\"dataframe\">\n",
       "  <tbody>\n",
       "    <tr>\n",
       "      <th>model</th>\n",
       "      <td>lifelines.CoxPHFitter</td>\n",
       "    </tr>\n",
       "    <tr>\n",
       "      <th>duration col</th>\n",
       "      <td>'event_time'</td>\n",
       "    </tr>\n",
       "    <tr>\n",
       "      <th>cluster col</th>\n",
       "      <td>'id'</td>\n",
       "    </tr>\n",
       "    <tr>\n",
       "      <th>penalizer</th>\n",
       "      <td>0.0001</td>\n",
       "    </tr>\n",
       "    <tr>\n",
       "      <th>l1 ratio</th>\n",
       "      <td>0.0</td>\n",
       "    </tr>\n",
       "    <tr>\n",
       "      <th>robust variance</th>\n",
       "      <td>True</td>\n",
       "    </tr>\n",
       "    <tr>\n",
       "      <th>baseline estimation</th>\n",
       "      <td>breslow</td>\n",
       "    </tr>\n",
       "    <tr>\n",
       "      <th>number of observations</th>\n",
       "      <td>8</td>\n",
       "    </tr>\n",
       "    <tr>\n",
       "      <th>number of events observed</th>\n",
       "      <td>8</td>\n",
       "    </tr>\n",
       "    <tr>\n",
       "      <th>partial log-likelihood</th>\n",
       "      <td>-6.45</td>\n",
       "    </tr>\n",
       "    <tr>\n",
       "      <th>time fit was run</th>\n",
       "      <td>2024-03-06 09:21:26 UTC</td>\n",
       "    </tr>\n",
       "  </tbody>\n",
       "</table>\n",
       "</div><table border=\"1\" class=\"dataframe\">\n",
       "  <thead>\n",
       "    <tr style=\"text-align: right;\">\n",
       "      <th style=\"min-width: 12px;\"></th>\n",
       "      <th style=\"min-width: 12px;\">coef</th>\n",
       "      <th style=\"min-width: 12px;\">exp(coef)</th>\n",
       "      <th style=\"min-width: 12px;\">se(coef)</th>\n",
       "      <th style=\"min-width: 12px;\">coef lower 95%</th>\n",
       "      <th style=\"min-width: 12px;\">coef upper 95%</th>\n",
       "      <th style=\"min-width: 12px;\">exp(coef) lower 95%</th>\n",
       "      <th style=\"min-width: 12px;\">exp(coef) upper 95%</th>\n",
       "      <th style=\"min-width: 12px;\">cmp to</th>\n",
       "      <th style=\"min-width: 12px;\">z</th>\n",
       "      <th style=\"min-width: 12px;\">p</th>\n",
       "      <th style=\"min-width: 12px;\">-log2(p)</th>\n",
       "    </tr>\n",
       "  </thead>\n",
       "  <tbody>\n",
       "    <tr>\n",
       "      <th>time_since_last_attack</th>\n",
       "      <td>-0.84</td>\n",
       "      <td>0.43</td>\n",
       "      <td>0.06</td>\n",
       "      <td>-0.96</td>\n",
       "      <td>-0.72</td>\n",
       "      <td>0.38</td>\n",
       "      <td>0.49</td>\n",
       "      <td>0.00</td>\n",
       "      <td>-13.81</td>\n",
       "      <td>&lt;0.005</td>\n",
       "      <td>141.62</td>\n",
       "    </tr>\n",
       "    <tr>\n",
       "      <th>potential_trigger_stress</th>\n",
       "      <td>-0.27</td>\n",
       "      <td>0.76</td>\n",
       "      <td>0.12</td>\n",
       "      <td>-0.50</td>\n",
       "      <td>-0.04</td>\n",
       "      <td>0.60</td>\n",
       "      <td>0.96</td>\n",
       "      <td>0.00</td>\n",
       "      <td>-2.34</td>\n",
       "      <td>0.02</td>\n",
       "      <td>5.70</td>\n",
       "    </tr>\n",
       "    <tr>\n",
       "      <th>potential_trigger_weather</th>\n",
       "      <td>0.27</td>\n",
       "      <td>1.32</td>\n",
       "      <td>0.12</td>\n",
       "      <td>0.04</td>\n",
       "      <td>0.50</td>\n",
       "      <td>1.05</td>\n",
       "      <td>1.66</td>\n",
       "      <td>0.00</td>\n",
       "      <td>2.34</td>\n",
       "      <td>0.02</td>\n",
       "      <td>5.70</td>\n",
       "    </tr>\n",
       "  </tbody>\n",
       "</table><br><div>\n",
       "<style scoped>\n",
       "    .dataframe tbody tr th:only-of-type {\n",
       "        vertical-align: middle;\n",
       "    }\n",
       "\n",
       "    .dataframe tbody tr th {\n",
       "        vertical-align: top;\n",
       "    }\n",
       "\n",
       "    .dataframe thead th {\n",
       "        text-align: right;\n",
       "    }\n",
       "</style>\n",
       "<table border=\"1\" class=\"dataframe\">\n",
       "  <tbody>\n",
       "    <tr>\n",
       "      <th>Concordance</th>\n",
       "      <td>0.87</td>\n",
       "    </tr>\n",
       "    <tr>\n",
       "      <th>Partial AIC</th>\n",
       "      <td>18.89</td>\n",
       "    </tr>\n",
       "    <tr>\n",
       "      <th>log-likelihood ratio test</th>\n",
       "      <td>8.32 on 3 df</td>\n",
       "    </tr>\n",
       "    <tr>\n",
       "      <th>-log2(p) of ll-ratio test</th>\n",
       "      <td>4.65</td>\n",
       "    </tr>\n",
       "  </tbody>\n",
       "</table>\n",
       "</div>"
      ],
      "text/latex": [
       "\\begin{tabular}{lrrrrrrrrrrr}\n",
       " & coef & exp(coef) & se(coef) & coef lower 95% & coef upper 95% & exp(coef) lower 95% & exp(coef) upper 95% & cmp to & z & p & -log2(p) \\\\\n",
       "covariate &  &  &  &  &  &  &  &  &  &  &  \\\\\n",
       "time_since_last_attack & -0.84 & 0.43 & 0.06 & -0.96 & -0.72 & 0.38 & 0.49 & 0.00 & -13.81 & 0.00 & 141.62 \\\\\n",
       "potential_trigger_stress & -0.27 & 0.76 & 0.12 & -0.50 & -0.04 & 0.60 & 0.96 & 0.00 & -2.34 & 0.02 & 5.70 \\\\\n",
       "potential_trigger_weather & 0.27 & 1.32 & 0.12 & 0.04 & 0.50 & 1.05 & 1.66 & 0.00 & 2.34 & 0.02 & 5.70 \\\\\n",
       "\\end{tabular}\n"
      ],
      "text/plain": [
       "<lifelines.CoxPHFitter: fitted with 8 total observations, 0 right-censored observations>\n",
       "             duration col = 'event_time'\n",
       "              cluster col = 'id'\n",
       "                penalizer = 0.0001\n",
       "                 l1 ratio = 0.0\n",
       "          robust variance = True\n",
       "      baseline estimation = breslow\n",
       "   number of observations = 8\n",
       "number of events observed = 8\n",
       "   partial log-likelihood = -6.45\n",
       "         time fit was run = 2024-03-06 09:21:26 UTC\n",
       "\n",
       "---\n",
       "                            coef  exp(coef)   se(coef)   coef lower 95%   coef upper 95%  exp(coef) lower 95%  exp(coef) upper 95%\n",
       "covariate                                                                                                                         \n",
       "time_since_last_attack     -0.84       0.43       0.06            -0.96            -0.72                 0.38                 0.49\n",
       "potential_trigger_stress   -0.27       0.76       0.12            -0.50            -0.04                 0.60                 0.96\n",
       "potential_trigger_weather   0.27       1.32       0.12             0.04             0.50                 1.05                 1.66\n",
       "\n",
       "                            cmp to      z      p   -log2(p)\n",
       "covariate                                                  \n",
       "time_since_last_attack        0.00 -13.81 <0.005     141.62\n",
       "potential_trigger_stress      0.00  -2.34   0.02       5.70\n",
       "potential_trigger_weather     0.00   2.34   0.02       5.70\n",
       "---\n",
       "Concordance = 0.87\n",
       "Partial AIC = 18.89\n",
       "log-likelihood ratio test = 8.32 on 3 df\n",
       "-log2(p) of ll-ratio test = 4.65"
      ]
     },
     "metadata": {},
     "output_type": "display_data"
    }
   ],
   "source": [
    "# Exemplo para relacoes temporais (dados longitudinais)\n",
    "\n",
    "import pandas as pd\n",
    "from lifelines import CoxPHFitter\n",
    "\n",
    "# Example dataset with lagged variable\n",
    "data = {\n",
    "    'id': [1, 1, 1, 2, 2, 2, 3, 3],\n",
    "    'event_time': [10, 20, 30, 15, 25, 35, 10, 20],\n",
    "    'time_since_last_attack': [0, 10, 10, 0, 10, 10, 0, 10],\n",
    "    'potential_trigger': ['stress', 'weather', 'stress', 'weather', 'stress', 'stress', 'stress', 'weather']\n",
    "}\n",
    "df = pd.DataFrame(data)\n",
    "df = pd.get_dummies(df, columns=['potential_trigger'])\n",
    "# Fit a recurrent event analysis model with time-dependent covariates\n",
    "cph = CoxPHFitter(penalizer=0.0001)\n",
    "\n",
    "#cph.fit(df, 'event_time', event_col=None, cluster_col='id', duration_col='time_since_last_attack')\n",
    "cph.fit(df, event_col=None, cluster_col='id', duration_col='event_time')\n",
    "\n",
    "# Print the summary of the model\n",
    "cph.print_summary()"
   ]
  },
  {
   "cell_type": "code",
   "execution_count": null,
   "id": "ea8cf262",
   "metadata": {},
   "outputs": [],
   "source": []
  }
 ],
 "metadata": {
  "kernelspec": {
   "display_name": "Python 3 (ipykernel)",
   "language": "python",
   "name": "python3"
  },
  "language_info": {
   "codemirror_mode": {
    "name": "ipython",
    "version": 3
   },
   "file_extension": ".py",
   "mimetype": "text/x-python",
   "name": "python",
   "nbconvert_exporter": "python",
   "pygments_lexer": "ipython3",
   "version": "3.11.5"
  }
 },
 "nbformat": 4,
 "nbformat_minor": 5
}
