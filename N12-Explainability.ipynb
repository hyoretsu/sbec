{
 "cells": [
  {
   "cell_type": "code",
   "execution_count": null,
   "id": "436aedf8",
   "metadata": {},
   "outputs": [],
   "source": [
    "#############################################################################################################\n",
    "##### Notebook Explainability\n",
    "##### Baseado em:\n",
    "##  Dataset: https://www.kaggle.com/datasets/fedesoriano/stroke-prediction-dataset\n",
    "##\n",
    "##############################################################################################################\n",
    "## Objetivos:\n",
    "##   Demosntrar os principais metodos de explainability"
   ]
  },
  {
   "cell_type": "code",
   "execution_count": null,
   "id": "d0bbec4d",
   "metadata": {},
   "outputs": [],
   "source": [
    "#!pip install xgboost\n",
    "#!pip install dice-ml"
   ]
  },
  {
   "cell_type": "code",
   "execution_count": null,
   "id": "53fa6a7e",
   "metadata": {},
   "outputs": [],
   "source": [
    "import pandas as pd\n",
    "import imblearn\n",
    "from sklearn.model_selection import train_test_split\n",
    "from imblearn.over_sampling import RandomOverSampler\n",
    "\n",
    "from sklearn.ensemble import RandomForestClassifier\n",
    "from sklearn.metrics import f1_score, accuracy_score\n",
    "from interpret.blackbox import LimeTabular\n",
    "from interpret import show\n",
    "\n",
    "pd.set_option('display.max_columns', None)\n",
    "\n",
    "import shap\n",
    "import dice_ml"
   ]
  },
  {
   "cell_type": "code",
   "execution_count": null,
   "id": "a5a6916a",
   "metadata": {},
   "outputs": [],
   "source": [
    "class DataLoader():\n",
    "    def __init__(self):\n",
    "        self.data = None\n",
    "\n",
    "    def load_dataset(self, path=\"C:/Users/dealbuqc/Desktop/ontomqol/Datasets/stroke/healthcare-dataset-stroke-data.csv\"):\n",
    "        self.data = pd.read_csv(path)\n",
    "\n",
    "    def preprocess_data(self):\n",
    "        # One-hot encode para todas as colunas categoricas\n",
    "        categorical_cols = [\"gender\",\n",
    "                            \"ever_married\",\n",
    "                            \"work_type\",\n",
    "                            \"Residence_type\",\n",
    "                            \"smoking_status\"]\n",
    "        encoded = pd.get_dummies(self.data[categorical_cols], \n",
    "                                prefix=categorical_cols, dtype=float)\n",
    "\n",
    "        # Atualiza dataset com novas colunas\n",
    "        self.data = pd.concat([encoded, self.data], axis=1)\n",
    "        self.data.drop(categorical_cols, axis=1, inplace=True)\n",
    "\n",
    "        # Incluir valores que faltam na coluna BMI\n",
    "        self.data.bmi = self.data.bmi.fillna(0)\n",
    "        \n",
    "        # Drop id - caracteristica nao eh relevante\n",
    "        self.data.drop([\"id\"], axis=1, inplace=True)\n",
    "\n",
    "    def get_data_split(self):\n",
    "        X = self.data.iloc[:,:-1]\n",
    "        y = self.data.iloc[:,-1]\n",
    "        return train_test_split(X, y, test_size=0.20, random_state=2021)\n",
    "    \n",
    "    def oversample(self, X_train, y_train):\n",
    "        oversample = RandomOverSampler(sampling_strategy='minority')\n",
    "        # Converte para numpy e oversample\n",
    "        x_np = X_train.to_numpy()\n",
    "        y_np = y_train.to_numpy()\n",
    "        x_np, y_np = oversample.fit_resample(x_np, y_np)\n",
    "        # Convert de volta para pandas\n",
    "        x_over = pd.DataFrame(x_np, columns=X_train.columns)\n",
    "        y_over = pd.Series(y_np, name=y_train.name)\n",
    "        return x_over, y_over"
   ]
  },
  {
   "cell_type": "code",
   "execution_count": null,
   "id": "c37a4303",
   "metadata": {},
   "outputs": [],
   "source": [
    "# Carregar dados\n",
    "data_loader = DataLoader()\n",
    "data_loader.load_dataset()\n",
    "data_loader.preprocess_data()\n",
    "\n",
    "# Separar em treinamento e avaliacao, fazendo o oversampling\n",
    "X_train, X_test, y_train, y_test = data_loader.get_data_split()\n",
    "X_train, y_train = data_loader.oversample(X_train, y_train)\n",
    "print(X_train.shape)\n",
    "print(X_test.shape)"
   ]
  },
  {
   "cell_type": "code",
   "execution_count": null,
   "id": "8f25fd02",
   "metadata": {},
   "outputs": [],
   "source": [
    "# %% Treinar o modelo blackbox (pode ser qualquer um aqui)\n",
    "rf = RandomForestClassifier()\n",
    "rf.fit(X_train, y_train)\n",
    "y_pred = rf.predict(X_test)\n",
    "print(f\"F1 Score {f1_score(y_test, y_pred, average='macro')}\")\n",
    "print(f\"Accuracy {accuracy_score(y_test, y_pred)}\")"
   ]
  },
  {
   "cell_type": "code",
   "execution_count": null,
   "id": "65df0d6a",
   "metadata": {},
   "outputs": [],
   "source": [
    "# Aplicar LIME\n",
    "\n",
    "# Classificacao: predict_proba. Regressao: predict)\n",
    "lime = LimeTabular(rf, \n",
    "                   X_train) # precisa do dataset para gerar as perturbacoes\n",
    "\n",
    "# Retornar explanation\n",
    "lime_local = lime.explain_local(X_test[-20:], \n",
    "                                y_test[-20:], \n",
    "                                name='LIME')\n",
    "show(lime_local)"
   ]
  },
  {
   "cell_type": "code",
   "execution_count": null,
   "id": "45b41998",
   "metadata": {},
   "outputs": [],
   "source": [
    "# Aplicar SHAP\n",
    "\n",
    "import xgboost\n",
    "\n",
    "model = xgboost.XGBClassifier(n_estimators=20)\n",
    "model.fit(X_train, y_train)\n",
    "\n",
    "explainer = shap.Explainer(model)\n",
    "shap_values = explainer(X_train)\n",
    "shap.plots.beeswarm(shap_values)"
   ]
  },
  {
   "cell_type": "code",
   "execution_count": null,
   "id": "51cef0eb",
   "metadata": {},
   "outputs": [],
   "source": [
    "# Aplicar DiCE  (Diverse Counterfactual Explanations)\n",
    "\n",
    "# Dataset\n",
    "data_dice = dice_ml.Data(dataframe=data_loader.data, \n",
    "                         # Indicar quem sao as caracteristicas continuas (para perturbacao)\n",
    "                         continuous_features=['age', \n",
    "                                              'avg_glucose_level',\n",
    "                                              'bmi'], \n",
    "                         outcome_name='stroke')"
   ]
  },
  {
   "cell_type": "code",
   "execution_count": null,
   "id": "19ac2d69",
   "metadata": {},
   "outputs": [],
   "source": [
    "# Modelo\n",
    "rf_dice = dice_ml.Model(model=rf, \n",
    "                        backend=\"sklearn\") # tf, torch, ...\n",
    "explainer = dice_ml.Dice(data_dice, \n",
    "                         rf_dice, \n",
    "                         # Random sampling, genetic algorithm, kd-tree,... (Ver github.com/)\n",
    "                         # Ver github.com/interpretml/DICE para outras opcoes incluindo para DL\n",
    "                         method=\"random\")"
   ]
  },
  {
   "cell_type": "code",
   "execution_count": null,
   "id": "83164a63",
   "metadata": {},
   "outputs": [],
   "source": [
    "# %% Criar explanations\n",
    "input_datapoint = X_test[0:1]\n",
    "cf = explainer.generate_counterfactuals(input_datapoint, \n",
    "                                  total_CFs=3, \n",
    "                                  desired_class=\"opposite\")\n",
    "\n",
    "# Visualizar\n",
    "cf.visualize_as_dataframe(show_only_changes=True)\n"
   ]
  },
  {
   "cell_type": "code",
   "execution_count": null,
   "id": "75650a8e",
   "metadata": {},
   "outputs": [],
   "source": [
    "# %% Criar contrafatos condicionais\n",
    "features_to_vary=['avg_glucose_level',\n",
    "                  'bmi',\n",
    "                  'smoking_status_smokes']\n",
    "permitted_range={'avg_glucose_level':[80,250],\n",
    "                'bmi':[18, 35]}\n",
    "\n",
    "cf = explainer.generate_counterfactuals(input_datapoint, \n",
    "                                  total_CFs=3, \n",
    "                                  desired_class=\"opposite\",\n",
    "                                  permitted_range=permitted_range,\n",
    "                                  features_to_vary=features_to_vary)\n",
    "# Visualizacao\n",
    "cf.visualize_as_dataframe(show_only_changes=True)"
   ]
  },
  {
   "cell_type": "code",
   "execution_count": null,
   "id": "8df5403a",
   "metadata": {},
   "outputs": [],
   "source": [
    "import numpy as np\n",
    "import matplotlib.pyplot as plt\n",
    "from tensorflow.keras.preprocessing import image\n",
    "from tensorflow.keras.applications.vgg16 import preprocess_input, decode_predictions\n",
    "from tensorflow.keras.applications.vgg16 import VGG16\n",
    "from innvestigate import create_analyzer\n",
    "\n",
    "# Carregar os pesos do modelo pre-treinado VGG16\n",
    "model = VGG16(weights='imagenet')"
   ]
  },
  {
   "cell_type": "code",
   "execution_count": null,
   "id": "86081430",
   "metadata": {},
   "outputs": [],
   "source": [
    "# Carregar um exemplo de imagem\n",
    "img_path = 'C:/Users/dealbuqc/Desktop/ontomqol/Datasets/brain-mri/Testing/glioma_tumor/image(1).jpg'\n",
    "img = image.load_img(img_path, target_size=(224, 224))\n",
    "x = image.img_to_array(img)\n",
    "x = np.expand_dims(x, axis=0)\n",
    "x = preprocess_input(x)"
   ]
  },
  {
   "cell_type": "code",
   "execution_count": null,
   "id": "f0844a48",
   "metadata": {},
   "outputs": [],
   "source": [
    "plt.imshow(img)"
   ]
  },
  {
   "cell_type": "code",
   "execution_count": null,
   "id": "a831de1e",
   "metadata": {},
   "outputs": [],
   "source": [
    "# Identificacao da imagem (classificao)\n",
    "preds = model.predict(x)\n",
    "print('Predicted:', decode_predictions(preds, top=3)[0])"
   ]
  },
  {
   "cell_type": "code",
   "execution_count": null,
   "id": "d77c6d0a",
   "metadata": {},
   "outputs": [],
   "source": [
    "## ESSE CODIGO VAI GERAR UM ERRO. TENTE ENTENDER O MOTIVO!\n",
    "\n",
    "# Create an LRP analyzer\n",
    "#analyzer = create_analyzer(\"lrp.z\", model)\n",
    "analyzer = create_analyzer(\"gradient\", model)\n",
    "\n",
    "# Aplicar o LRP a image\n",
    "analysis = analyzer.analyze(x)\n",
    "\n",
    "# Plotar o heatmap\n",
    "plt.imshow(analysis.squeeze(), cmap='viridis')\n",
    "plt.colorbar()\n",
    "plt.show()\n",
    "\n",
    "# Para uma implementacao correta (em pytorch), ver link abaixo:\n",
    "# https://www.kaggle.com/code/gustavkeppler/layer-wise-relevance-propagation-lrp-on-vgg16"
   ]
  },
  {
   "cell_type": "code",
   "execution_count": null,
   "id": "acd6431c",
   "metadata": {},
   "outputs": [],
   "source": [
    "# Ver um demo em: \n",
    "### https://lrpserver.hhi.fraunhofer.de/image-classification"
   ]
  }
 ],
 "metadata": {
  "kernelspec": {
   "display_name": "Python 3 (ipykernel)",
   "language": "python",
   "name": "python3"
  },
  "language_info": {
   "codemirror_mode": {
    "name": "ipython",
    "version": 3
   },
   "file_extension": ".py",
   "mimetype": "text/x-python",
   "name": "python",
   "nbconvert_exporter": "python",
   "pygments_lexer": "ipython3",
   "version": "3.11.5"
  }
 },
 "nbformat": 4,
 "nbformat_minor": 5
}
