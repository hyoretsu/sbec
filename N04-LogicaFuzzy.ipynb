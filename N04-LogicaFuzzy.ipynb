{
 "cells": [
  {
   "cell_type": "code",
   "execution_count": null,
   "id": "e35b6a27",
   "metadata": {},
   "outputs": [],
   "source": [
    "#############################################################################################################\n",
    "##### Notebook Logica Fuzzy\n",
    "##### Baseado em:\n",
    "## Rizianiza, I., & Djafar, A. (2017, October). Design car braking system using mamdani fuzzy logic control. \n",
    "## In 2017 4th International Conference on Electric Vehicular Technology (ICEVT) (pp. 129-133). IEEE.\n",
    "##\n",
    "## OBJETIVO: Determinar a forca que deve ser aplicada ao freio de modo que o carro evite um choque.\n",
    "##\n",
    "##############################################################################################################\n",
    "## Especificacao do problema:\n",
    "##\n",
    "##Entrada:\n",
    "## Posicao relativa do carro\n",
    "## Universo: 0 a 60 \n",
    "## Conjunto Fuzzy: muito_perto, perto, medio, longe, muito_longe\n",
    "##\n",
    "##  Velocidade do carro\n",
    "##  Universo: 0 a 100\n",
    "##  Conjunto Fuzzy: muito_lento, lento, intermediaria, rapido, muito_rapido\n",
    "##\n",
    "## Saida:\n",
    "##  Forca aplicada ao freia\n",
    "##  Universo: 0 a 9263N\n",
    "##  Conjunto Fuzzy: fraca, media, forte\n",
    "##\n",
    "## Regras de decisao:\n",
    "##  Sao consideradas 25 regras de decisao.\n",
    "###################################################################################################################"
   ]
  },
  {
   "cell_type": "code",
   "execution_count": null,
   "id": "0a0a2962",
   "metadata": {},
   "outputs": [],
   "source": [
    "#!pip install networkx==2.3\n",
    "#!pip install matplotlib-inline\n",
    "#!pip install scikit-fuzzy\n",
    "\n",
    "import numpy as np\n",
    "import skfuzzy as fuzz\n",
    "from skfuzzy import control\n",
    "import matplotlib.pyplot as plt\n"
   ]
  },
  {
   "cell_type": "code",
   "execution_count": null,
   "id": "5c37b6ad",
   "metadata": {},
   "outputs": [],
   "source": [
    "# Criar as variaveis do problema\n",
    "carPosition = control.Antecedent(np.arange(0, 61, 1), 'carPosition') #entrada\n",
    "carVelocity = control.Antecedent(np.arange(0, 101, 1), 'carVelocity') # entrada\n",
    "brakeForce = control.Consequent(np.arange(0,9264,1), 'brakeForce') # saida"
   ]
  },
  {
   "cell_type": "code",
   "execution_count": null,
   "id": "5fd2075b",
   "metadata": {},
   "outputs": [],
   "source": [
    "# Criar variaveis linguisticas\n",
    "\n",
    "carPosition['muito_perto'] = fuzz.gauss2mf(carPosition.universe, -2.76, 10, 3.773, 3.86) #mean1, sigma1, mean2, sigma2\n",
    "carPosition['perto'] = fuzz.gaussmf(carPosition.universe, 18.42, 4.21) #mean1, sigma1, mean2, sigma2\n",
    "carPosition['medio'] = fuzz.gaussmf(carPosition.universe, 27.76, 3.96) #mean1, sigma1, mean2, sigma2\n",
    "carPosition['longe'] = fuzz.gaussmf(carPosition.universe, 38, 3.54) #mean1, sigma1, mean2, sigma2\n",
    "carPosition['muito_longe'] = fuzz.gauss2mf(carPosition.universe, 51, 3.46, 63.3, 5.1) #mean1, sigma1, mean2, sigma2"
   ]
  },
  {
   "cell_type": "code",
   "execution_count": null,
   "id": "14866675",
   "metadata": {},
   "outputs": [],
   "source": [
    "carPosition.view()\n"
   ]
  },
  {
   "cell_type": "code",
   "execution_count": null,
   "id": "c9052907",
   "metadata": {},
   "outputs": [],
   "source": [
    "carVelocity['muito_lento'] = fuzz.gauss2mf(carVelocity.universe, -0.153, 10, 7.945, 4.02)\n",
    "carVelocity['lento'] = fuzz.gaussmf(carVelocity.universe, 27.97, 6.6)\n",
    "carVelocity['medio'] = fuzz.gaussmf(carVelocity.universe, 42.26, 11.3)\n",
    "carVelocity['rapido'] = fuzz.gaussmf(carVelocity.universe, 53.6, 7.177)\n",
    "carVelocity['muito_rapido'] = fuzz.gauss2mf(carVelocity.universe, 68.18, 4.04, 103.6, 6.48)"
   ]
  },
  {
   "cell_type": "code",
   "execution_count": null,
   "id": "dc04c7c7",
   "metadata": {},
   "outputs": [],
   "source": [
    "carVelocity.view()"
   ]
  },
  {
   "cell_type": "code",
   "execution_count": null,
   "id": "5043b992",
   "metadata": {},
   "outputs": [],
   "source": [
    "brakeForce['fraca'] = fuzz.gaussmf(brakeForce.universe, 2530, 730.4)\n",
    "brakeForce['media'] = fuzz.gaussmf(brakeForce.universe, 4760, 1325)\n",
    "brakeForce['forte'] = fuzz.gaussmf(brakeForce.universe, 6120, 1090)"
   ]
  },
  {
   "cell_type": "code",
   "execution_count": null,
   "id": "a541bf46",
   "metadata": {},
   "outputs": [],
   "source": [
    "brakeForce.view()"
   ]
  },
  {
   "cell_type": "code",
   "execution_count": null,
   "id": "f8c4d490",
   "metadata": {},
   "outputs": [],
   "source": [
    "# Criando as regras\n",
    "rule01 = control.Rule(carPosition['muito_perto'] & carVelocity['muito_lento'], brakeForce['fraca'])\n",
    "rule02 = control.Rule(carPosition['muito_perto'] & carVelocity['lento'], brakeForce['fraca'])\n",
    "rule03 = control.Rule(carPosition['muito_perto'] & carVelocity['medio'], brakeForce['fraca'])\n",
    "rule04 = control.Rule(carPosition['muito_perto'] & carVelocity['rapido'], brakeForce['media'])\n",
    "rule05 = control.Rule(carPosition['muito_perto'] & carVelocity['muito_rapido'], brakeForce['media'])\n",
    "\n",
    "rule06 = control.Rule(carPosition['perto'] & carVelocity['muito_lento'], brakeForce['fraca'])\n",
    "rule07 = control.Rule(carPosition['perto'] & carVelocity['lento'], brakeForce['fraca'])\n",
    "rule08 = control.Rule(carPosition['perto'] & carVelocity['medio'], brakeForce['fraca'])\n",
    "rule09 = control.Rule(carPosition['perto'] & carVelocity['rapido'], brakeForce['media'])\n",
    "rule10 = control.Rule(carPosition['perto'] & carVelocity['muito_rapido'], brakeForce['media'])\n",
    "\n",
    "rule11 = control.Rule(carPosition['medio'] & carVelocity['muito_lento'], brakeForce['fraca'])\n",
    "rule12 = control.Rule(carPosition['medio'] & carVelocity['lento'], brakeForce['fraca'])\n",
    "rule13 = control.Rule(carPosition['medio'] & carVelocity['medio'], brakeForce['media'])\n",
    "rule14 = control.Rule(carPosition['medio'] & carVelocity['rapido'], brakeForce['forte'])\n",
    "rule15 = control.Rule(carPosition['medio'] & carVelocity['muito_rapido'], brakeForce['forte'])\n",
    "\n",
    "rule16 = control.Rule(carPosition['longe'] & carVelocity['muito_lento'], brakeForce['media'])\n",
    "rule17 = control.Rule(carPosition['longe'] & carVelocity['lento'], brakeForce['media'])\n",
    "rule18 = control.Rule(carPosition['longe'] & carVelocity['medio'], brakeForce['media'])\n",
    "rule19 = control.Rule(carPosition['longe'] & carVelocity['rapido'], brakeForce['media'])\n",
    "rule20 = control.Rule(carPosition['longe'] & carVelocity['muito_rapido'], brakeForce['forte'])\n",
    "\n",
    "rule21 = control.Rule(carPosition['muito_longe'] & carVelocity['muito_lento'], brakeForce['media'])\n",
    "rule22 = control.Rule(carPosition['muito_longe'] & carVelocity['lento'], brakeForce['media'])\n",
    "rule23= control.Rule(carPosition['muito_longe'] & carVelocity['medio'], brakeForce['forte'])\n",
    "rule24 = control.Rule(carPosition['muito_longe'] & carVelocity['rapido'], brakeForce['forte'])\n",
    "rule25 = control.Rule(carPosition['muito_longe'] & carVelocity['muito_rapido'], brakeForce['forte'])\n"
   ]
  },
  {
   "cell_type": "code",
   "execution_count": null,
   "id": "84de9e21",
   "metadata": {},
   "outputs": [],
   "source": [
    "brakesystem_ctrl = control.ControlSystem([rule01,rule02,rule03,rule04,rule05,rule06,rule07,rule08,rule09,rule10,\n",
    "                                        rule11,rule12,rule13,rule14,rule15,rule16,rule17,rule18,rule19,rule20,\n",
    "                                        rule21,rule22,rule23,rule24,rule25])\n",
    "brakesystem_simulator = control.ControlSystemSimulation(brakesystem_ctrl) #, flush_after_run=21 * 21 + 1)"
   ]
  },
  {
   "cell_type": "code",
   "execution_count": null,
   "id": "59bbfaa1",
   "metadata": {},
   "outputs": [],
   "source": [
    "carPos = 30\n",
    "carVel = 50\n",
    "\n",
    "brakesystem_simulator.input['carPosition'] = carPos\n",
    "brakesystem_simulator.input['carVelocity'] = carVel\n",
    "brakesystem_simulator.compute()"
   ]
  },
  {
   "cell_type": "code",
   "execution_count": null,
   "id": "7f46735b",
   "metadata": {},
   "outputs": [],
   "source": [
    "carPosition.view(sim=brakesystem_simulator)\n",
    "\n",
    "print(\"------ position ------\")\n",
    "input = carPos\n",
    "for t in carPosition.terms:\n",
    "    mval = np.interp(input, carPosition.universe, carPosition[t].mf)\n",
    "    print(t,mval)\n",
    "\n"
   ]
  },
  {
   "cell_type": "code",
   "execution_count": null,
   "id": "8f383970",
   "metadata": {},
   "outputs": [],
   "source": [
    "carVelocity.view(sim=brakesystem_simulator)\n",
    "\n",
    "print(\"\\n------- velocity ------\")\n",
    "input = carVel\n",
    "for t in carVelocity.terms:\n",
    "    eval = np.interp(input, carVelocity.universe, carVelocity[t].mf)\n",
    "    print(t,mval)\n",
    "\n"
   ]
  },
  {
   "cell_type": "code",
   "execution_count": null,
   "id": "487e9587",
   "metadata": {},
   "outputs": [],
   "source": [
    "brakeForce.view(sim=brakesystem_simulator)"
   ]
  },
  {
   "cell_type": "code",
   "execution_count": null,
   "id": "1a3e12e6",
   "metadata": {},
   "outputs": [],
   "source": [
    "print(brakesystem_simulator.output['brakeForce'])"
   ]
  },
  {
   "cell_type": "code",
   "execution_count": null,
   "id": "7370d2eb",
   "metadata": {},
   "outputs": [],
   "source": []
  }
 ],
 "metadata": {
  "kernelspec": {
   "display_name": "Python 3 (ipykernel)",
   "language": "python",
   "name": "python3"
  },
  "language_info": {
   "codemirror_mode": {
    "name": "ipython",
    "version": 3
   },
   "file_extension": ".py",
   "mimetype": "text/x-python",
   "name": "python",
   "nbconvert_exporter": "python",
   "pygments_lexer": "ipython3",
   "version": "3.11.5"
  }
 },
 "nbformat": 4,
 "nbformat_minor": 5
}
