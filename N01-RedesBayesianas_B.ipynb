{
 "cells": [
  {
   "cell_type": "code",
   "execution_count": 1,
   "id": "f287e860",
   "metadata": {},
   "outputs": [
    {
     "ename": "ModuleNotFoundError",
     "evalue": "No module named 'pgmpy'",
     "output_type": "error",
     "traceback": [
      "\u001b[0;31m---------------------------------------------------------------------------\u001b[0m",
      "\u001b[0;31mModuleNotFoundError\u001b[0m                       Traceback (most recent call last)",
      "Cell \u001b[0;32mIn[1], line 8\u001b[0m\n\u001b[1;32m      1\u001b[0m \u001b[38;5;66;03m######################################\u001b[39;00m\n\u001b[1;32m      2\u001b[0m \u001b[38;5;66;03m### Sistemas Baseados em Conhecimento\u001b[39;00m\n\u001b[1;32m      3\u001b[0m \u001b[38;5;66;03m### Notebook: N02 (Redes Bayesianas)   \u001b[39;00m\n\u001b[1;32m      4\u001b[0m \u001b[38;5;66;03m######################################\u001b[39;00m\n\u001b[1;32m      5\u001b[0m \n\u001b[1;32m      6\u001b[0m \u001b[38;5;66;03m#!pip install pgmpy\u001b[39;00m\n\u001b[0;32m----> 8\u001b[0m \u001b[38;5;28;01mfrom\u001b[39;00m \u001b[38;5;21;01mpgmpy\u001b[39;00m\u001b[38;5;21;01m.\u001b[39;00m\u001b[38;5;21;01mmodels\u001b[39;00m \u001b[38;5;28;01mimport\u001b[39;00m BayesianNetwork\n\u001b[1;32m      9\u001b[0m \u001b[38;5;28;01mfrom\u001b[39;00m \u001b[38;5;21;01mpgmpy\u001b[39;00m\u001b[38;5;21;01m.\u001b[39;00m\u001b[38;5;21;01mfactors\u001b[39;00m\u001b[38;5;21;01m.\u001b[39;00m\u001b[38;5;21;01mdiscrete\u001b[39;00m \u001b[38;5;28;01mimport\u001b[39;00m TabularCPD\n",
      "\u001b[0;31mModuleNotFoundError\u001b[0m: No module named 'pgmpy'"
     ]
    }
   ],
   "source": [
    "######################################\n",
    "### Sistemas Baseados em Conhecimento\n",
    "### Notebook: N02 (Redes Bayesianas)\n",
    "######################################\n",
    "\n",
    "#!pip install pgmpy\n",
    "\n",
    "from pgmpy.models import BayesianNetwork\n",
    "from pgmpy.factors.discrete import TabularCPD"
   ]
  },
  {
   "attachments": {
    "image.png": {
     "image/png": "[encoded data removed]"
    }
   },
   "cell_type": "markdown",
   "id": "587c237c",
   "metadata": {},
   "source": [
    "![image.png](attachment:image.png)\n"
   ]
  },
  {
   "cell_type": "code",
   "execution_count": null,
   "id": "48827771",
   "metadata": {},
   "outputs": [],
   "source": [
    "# Definicao da estrutura da Rede Bayesiana\n",
    "model = BayesianNetwork(\n",
    "    [\n",
    "        (\"Gripe\", \"Febre\"),\n",
    "        (\"Gripe\", \"Fadiga\"),\n",
    "        (\"Gripe\", \"Tosse\"),\n",
    "        (\"GargantaInflamada\", \"Tosse\"),\n",
    "    ]\n",
    ")"
   ]
  },
  {
   "cell_type": "code",
   "execution_count": null,
   "id": "3b0db02d",
   "metadata": {},
   "outputs": [],
   "source": [
    "# Considere o levantamento de pessoas que chegam em um hospital\n",
    "# Definicao das distribuicoes probabilisticas condicionais(CPDs)\n",
    "\n",
    "cpd_gripe = TabularCPD(variable=\"Gripe\", variable_card=2, values=[[0.7], [0.3]])\n",
    "\n",
    "cpd_gargantaInflamada = TabularCPD(\n",
    "    variable=\"GargantaInflamada\", variable_card=2, values=[[0.8], [0.2]]\n",
    ")\n",
    "\n",
    "cpd_fadiga = TabularCPD(\n",
    "    variable=\"Fadiga\",\n",
    "    variable_card=2,\n",
    "    values=[[0.8, 0.5], [0.2, 0.5]],\n",
    "    evidence=[\"Gripe\"],\n",
    "    evidence_card=[2],\n",
    ")\n",
    "\n",
    "cpd_febre = TabularCPD(\n",
    "    variable=\"Febre\",\n",
    "    variable_card=2,\n",
    "    values=[[0.9, 0.6], [0.1, 0.4]],\n",
    "    evidence=[\"Gripe\"],\n",
    "    evidence_card=[2],\n",
    ")\n",
    "\n",
    "cpd_tosse = TabularCPD(\n",
    "    variable=\"Tosse\",\n",
    "    variable_card=2,\n",
    "    values=[[0.7, 0.4, 0.1, 0.6], [0.3, 0.6, 0.9, 0.4]],\n",
    "    evidence=[\"Gripe\", \"GargantaInflamada\"],\n",
    "    evidence_card=[2, 2],\n",
    ")\n",
    "\n",
    "# Adicionar as tabelas ao modelo\n",
    "model.add_cpds(cpd_gripe, cpd_gargantaInflamada, cpd_febre, cpd_fadiga, cpd_tosse)\n",
    "\n",
    "# Verificar se o modelo eh consistente\n",
    "print(model.check_model())"
   ]
  },
  {
   "cell_type": "code",
   "execution_count": null,
   "id": "d269d208",
   "metadata": {},
   "outputs": [],
   "source": [
    "# Print the CPDs\n",
    "print(model.get_cpds(\"Gripe\"))\n",
    "print(model.get_cpds(\"GargantaInflamada\"))\n",
    "print(model.get_cpds(\"Febre\"))\n",
    "print(model.get_cpds(\"Fadiga\"))\n",
    "print(model.get_cpds(\"Tosse\"))"
   ]
  },
  {
   "cell_type": "code",
   "execution_count": null,
   "id": "66afe823",
   "metadata": {},
   "outputs": [],
   "source": [
    "# Exemplo de inferencia: computar probabilidade\n",
    "\n",
    "# Computar probabilidade de ter Febre dado que tivemos Gripe.\n",
    "\n",
    "from pgmpy.inference import VariableElimination\n",
    "\n",
    "# Create tipo de inferencia\n",
    "inference = VariableElimination(model)\n",
    "\n",
    "\n",
    "prob_febre_tendo_gripe = inference.query(variables=[\"Febre\"], evidence={\"Gripe\": 1})\n",
    "print(prob_febre_tendo_gripe)"
   ]
  },
  {
   "cell_type": "code",
   "execution_count": null,
   "id": "d3c258a4",
   "metadata": {},
   "outputs": [],
   "source": [
    "# Exemplo 2: Predicao de sintomas\n",
    "# Suponha que um medico observe que um paciente tem garganta inflamanda e quer indicar a probabilidade do mesmo\n",
    "#   ter tosse e gripe.\n",
    "# Ou seja, computar a probabilidade de tosse e gripe dada a evidencia de garganta inflamada\n",
    "\n",
    "prob_tosse_gripe_dado_gargantainflamada = inference.query(\n",
    "    variables=[\"Tosse\", \"Gripe\"], evidence={\"GargantaInflamada\": 1}\n",
    ")\n",
    "print(prob_tosse_gripe_dado_gargantainflamada)"
   ]
  },
  {
   "cell_type": "code",
   "execution_count": null,
   "id": "8d941f02",
   "metadata": {},
   "outputs": [],
   "source": [
    "# Exemplo 3: Updating Probabilities with New Evidence\n",
    "\n",
    "# Digamos que o medico oberva que um paciente tem tanto garganta  como tosse,\n",
    "#   e tal medico quer obter a probabilidade dele ter gripe.\n",
    "\n",
    "prob_gripe_dado_sintomas = inference.query(\n",
    "    variables=[\"Gripe\"], evidence={\"GargantaInflamada\": 1, \"Tosse\": 1}\n",
    ")\n",
    "print(prob_gripe_dado_sintomas)"
   ]
  },
  {
   "cell_type": "code",
   "execution_count": null,
   "id": "7d713c2c",
   "metadata": {},
   "outputs": [],
   "source": [
    "# Example 4: Prever multiplos sintomas\n",
    "## Considere que o medico sabe que a pessoa tem fadiga e quer prever a probabilidade dele ter Febre e tosse.\n",
    "\n",
    "prob_febre_tosse_dado_fadiga = inference.query(\n",
    "    variables=[\"Febre\", \"Tosse\"], evidence={\"Fadiga\": 1}\n",
    ")\n",
    "print(prob_febre_tosse_dado_fadiga)"
   ]
  },
  {
   "cell_type": "code",
   "execution_count": null,
   "id": "27e31454",
   "metadata": {},
   "outputs": [],
   "source": [
    "# Example 5: Probabilidade de ter gripe e garganta inflamada sabendo que se tem febre e fadiga\n",
    "\n",
    "prob_grip_gargantainflamanda_dado_febre_fadiga = inference.query(\n",
    "    variables=[\"Gripe\", \"GargantaInflamada\"], evidence={\"Febre\": 1, \"Fadiga\": 1}\n",
    ")\n",
    "print(prob_grip_gargantainflamanda_dado_febre_fadiga)"
   ]
  },
  {
   "cell_type": "code",
   "execution_count": null,
   "id": "4ce6dc53",
   "metadata": {},
   "outputs": [],
   "source": [
    "# Example 6: Sem nenhuma evidencia sobre doencas, computar a probabilidade de se ter garganta inflamada e tosse.\n",
    "\n",
    "# Computing the probability of SoreThroat and Cough\n",
    "prob_gargantainflamanda_tosse = inference.query(\n",
    "    variables=[\"GargantaInflamada\", \"Tosse\"], evidence={}\n",
    ")\n",
    "print(prob_gargantainflamanda_tosse)"
   ]
  },
  {
   "cell_type": "code",
   "execution_count": null,
   "id": "c27e5bc1",
   "metadata": {},
   "outputs": [],
   "source": []
  }
 ],
 "metadata": {
  "kernelspec": {
   "display_name": "Python 3 (ipykernel)",
   "language": "python",
   "name": "python3"
  },
  "language_info": {
   "codemirror_mode": {
    "name": "ipython",
    "version": 3
   },
   "file_extension": ".py",
   "mimetype": "text/x-python",
   "name": "python",
   "nbconvert_exporter": "python",
   "pygments_lexer": "ipython3",
   "version": "3.11.4"
  }
 },
 "nbformat": 4,
 "nbformat_minor": 5
}
