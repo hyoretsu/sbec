{
 "cells": [
  {
   "cell_type": "code",
   "execution_count": null,
   "id": "f1bc4b9e",
   "metadata": {},
   "outputs": [],
   "source": [
    "######################################\n",
    "### Sistemas Baseados em Conhecimento\n",
    "### Notebook: N02 (Cadeia de Markov)   \n",
    "######################################\n",
    "\n",
    "#https://www.datacamp.com/tutorial/markov-chains-python-tutorial\n",
    "\n",
    "from pomegranate import *\n",
    "\n",
    "# Definicao da probabilidade inicial\n",
    "start = DiscreteDistribution({\n",
    "    \"sun\": 1.0,\n",
    "    \"rain\": 0.0\n",
    "})\n",
    "\n",
    "# Definicao do modelo de transicao\n",
    "transitions = ConditionalProbabilityTable([\n",
    "    [\"sun\", \"sun\", 0.8],\n",
    "    [\"sun\", \"rain\", 0.2],\n",
    "    [\"rain\", \"sun\", 0.3],\n",
    "    [\"rain\", \"rain\", 0.7]\n",
    "], [start])\n",
    "\n",
    "# Criar a cadeia de Markov\n",
    "model = MarkovChain([start, transitions])\n",
    "\n",
    "# Amostragem com 50 estados\n",
    "print(model.sample(50))\n",
    "print(\"---\")\n",
    "print(model.sample(50))\n"
   ]
  },
  {
   "cell_type": "code",
   "execution_count": null,
   "id": "dddf11fd",
   "metadata": {},
   "outputs": [],
   "source": [
    "### EXEMPLO 2\n",
    "\n",
    "import numpy as np\n",
    "import random as rm"
   ]
  },
  {
   "attachments": {
    "image.png": {
     "image/png": "[encoded data removed]"
    }
   },
   "cell_type": "markdown",
   "id": "71e98390",
   "metadata": {},
   "source": [
    "![image.png](attachment:image.png)"
   ]
  },
  {
   "cell_type": "code",
   "execution_count": null,
   "id": "8ff5044d",
   "metadata": {},
   "outputs": [],
   "source": [
    "# Espaco de estados\n",
    "states = [\"Sleep\",\"Icecream\",\"Run\"]\n",
    "\n",
    "# Possiveis sequencias de eventos\n",
    "transitionName = [[\"SS\",\"SR\",\"SI\"],[\"RS\",\"RR\",\"RI\"],[\"IS\",\"IR\",\"II\"]]\n",
    "\n",
    "# Matrix de probabilidades/transicoes\n",
    "transitionMatrix = [[0.2,0.6,0.2],[0.1,0.6,0.3],[0.2,0.7,0.1]]\n"
   ]
  },
  {
   "cell_type": "code",
   "execution_count": null,
   "id": "7b0eabb5",
   "metadata": {},
   "outputs": [],
   "source": [
    "# Verificar consistencia das matrizes\n",
    "\n",
    "if sum(transitionMatrix[0])+sum(transitionMatrix[1])+sum(transitionMatrix[1]) != len(states):\n",
    "    print(\"Check consistency\")\n",
    "else: print(\"Okay\")\n"
   ]
  },
  {
   "cell_type": "code",
   "execution_count": null,
   "id": "9f66ec7e",
   "metadata": {},
   "outputs": [],
   "source": [
    "# Implementacao de uma cadeia de Markov \n",
    "\n",
    "def activity_forecast(activityToday,days):\n",
    "    # Arnazena a sequencia de estados (um para cada dia). Inicia com o estado (atividade) atual\n",
    "    activityList = [activityToday]\n",
    "    i = 0\n",
    "    # Calcular a probabilidade das atividades\n",
    "    prob = 1\n",
    "    while i != days:\n",
    "        if activityToday == \"Sleep\":\n",
    "            change = np.random.choice(transitionName[0],replace=True,p=transitionMatrix[0])\n",
    "            if change == \"SS\":\n",
    "                prob = prob * 0.2\n",
    "                activityList.append(\"Sleep\")\n",
    "                pass\n",
    "            elif change == \"SR\":\n",
    "                prob = prob * 0.6\n",
    "                activityToday = \"Run\"\n",
    "                activityList.append(\"Run\")\n",
    "            else:\n",
    "                prob = prob * 0.2\n",
    "                activityToday = \"Icecream\"\n",
    "                activityList.append(\"Icecream\")\n",
    "        elif activityToday == \"Run\":\n",
    "            change = np.random.choice(transitionName[1],replace=True,p=transitionMatrix[1])\n",
    "            if change == \"RR\":\n",
    "                prob = prob * 0.5\n",
    "                activityList.append(\"Run\")\n",
    "                pass\n",
    "            elif change == \"RS\":\n",
    "                prob = prob * 0.2\n",
    "                activityToday = \"Sleep\"\n",
    "                activityList.append(\"Sleep\")\n",
    "            else:\n",
    "                prob = prob * 0.3\n",
    "                activityToday = \"Icecream\"\n",
    "                activityList.append(\"Icecream\")\n",
    "        elif activityToday == \"Icecream\":\n",
    "            change = np.random.choice(transitionName[2],replace=True,p=transitionMatrix[2])\n",
    "            if change == \"II\":\n",
    "                prob = prob * 0.1\n",
    "                activityList.append(\"Icecream\")\n",
    "                pass\n",
    "            elif change == \"IS\":\n",
    "                prob = prob * 0.2\n",
    "                activityToday = \"Sleep\"\n",
    "                activityList.append(\"Sleep\")\n",
    "            else:\n",
    "                prob = prob * 0.7\n",
    "                activityToday = \"Run\"\n",
    "                activityList.append(\"Run\")\n",
    "        i += 1\n",
    "    return activityList, prob\n",
    "\n",
    "# Funcao que preve os estados possiveis para os proximos 2 dias\n",
    "\n",
    "activityToday = \"Sleep\"\n",
    "days = 2\n",
    "\n",
    "print(\"Estado inicial: \" + activityToday)\n",
    "for _ in range(0,1):\n",
    "    activityList, prob = activity_forecast(activityToday, days)\n",
    "    print(\"Estados possiveis: \" + str(activityList))\n",
    "    print(\"Estado final apos \"+ str(days) + \" dias: \" + activityToday)\n",
    "    print(\"Probabilidade da sequencia de estados: \" + str(prob))\n",
    "\n",
    "    print(\"\")\n"
   ]
  },
  {
   "cell_type": "code",
   "execution_count": null,
   "id": "ae67a0ba",
   "metadata": {},
   "outputs": [],
   "source": [
    "#\n",
    "\n",
    "list_activity = []\n",
    "count = 0\n",
    "total_iteractions = 1000\n",
    "\n",
    "activityToday = \"Sleep\"\n",
    "final_activity = \"Run\"\n",
    "days = 2\n",
    "\n",
    "# Gerar os 1000 samples\n",
    "for iterations in range(1,total_iteractions):\n",
    "    activityList, prob = activity_forecast(activityToday, days)\n",
    "    list_activity.append(activityList)\n",
    "\n",
    "# Contar todas os samples que acabam com o estado:'Run'\n",
    "for smaller_list in list_activity:\n",
    "    if(smaller_list[2] == final_activity):\n",
    "        count += 1\n",
    "\n",
    "# Calculate the probability of starting from state:'Sleep' and ending at state:'Run'\n",
    "percentage = (count/total_iteractions) * 100\n",
    "print(\"A probabilidade de iniciar no estado \"+activityToday+\" e finalizar no estado \" + final_activity + \" = \" + str(percentage) + \"%\")"
   ]
  }
 ],
 "metadata": {
  "kernelspec": {
   "display_name": "Python 3 (ipykernel)",
   "language": "python",
   "name": "python3"
  },
  "language_info": {
   "codemirror_mode": {
    "name": "ipython",
    "version": 3
   },
   "file_extension": ".py",
   "mimetype": "text/x-python",
   "name": "python",
   "nbconvert_exporter": "python",
   "pygments_lexer": "ipython3",
   "version": "3.11.5"
  }
 },
 "nbformat": 4,
 "nbformat_minor": 5
}
